{
 "cells": [
  {
   "cell_type": "code",
   "execution_count": 1,
   "metadata": {},
   "outputs": [],
   "source": [
    "import numpy as np\n"
   ]
  },
  {
   "cell_type": "code",
   "execution_count": 2,
   "metadata": {},
   "outputs": [],
   "source": [
    "X = 2 * np.random.rand(100, 1)"
   ]
  },
  {
   "cell_type": "code",
   "execution_count": 3,
   "metadata": {},
   "outputs": [],
   "source": [
    "y = 4 + 3 * X + np.random.randn(100, 1)"
   ]
  },
  {
   "cell_type": "code",
   "execution_count": 4,
   "metadata": {},
   "outputs": [],
   "source": [
    "X_b = np.c_[np.ones((100, 1)), X] # add x0 = 1 to each instance"
   ]
  },
  {
   "cell_type": "code",
   "execution_count": 6,
   "metadata": {},
   "outputs": [],
   "source": [
    "theta_best = np.linalg.inv(X_b.T.dot(X_b)).dot(X_b.T).dot(y)"
   ]
  },
  {
   "cell_type": "code",
   "execution_count": 8,
   "metadata": {},
   "outputs": [
    {
     "name": "stdout",
     "output_type": "stream",
     "text": [
      "[[1.81913804]\n",
      " [0.8228362 ]\n",
      " [0.94602481]\n",
      " [1.79600817]\n",
      " [1.42364911]\n",
      " [1.64588469]\n",
      " [0.94950628]\n",
      " [0.10630789]\n",
      " [1.74693521]\n",
      " [0.10526612]\n",
      " [1.54935414]\n",
      " [1.58151547]\n",
      " [1.9505395 ]\n",
      " [0.18266204]\n",
      " [1.00012223]\n",
      " [1.98893594]\n",
      " [0.49427531]\n",
      " [0.25997967]\n",
      " [0.9550999 ]\n",
      " [1.75221583]\n",
      " [0.07186486]\n",
      " [0.64704658]\n",
      " [0.90185786]\n",
      " [1.57044105]\n",
      " [0.76534861]\n",
      " [0.53847665]\n",
      " [0.04413686]\n",
      " [1.83937687]\n",
      " [0.3238927 ]\n",
      " [0.11012556]\n",
      " [1.40922879]\n",
      " [0.42031345]\n",
      " [0.5975154 ]\n",
      " [1.45782879]\n",
      " [1.38872055]\n",
      " [1.21118099]\n",
      " [0.64907075]\n",
      " [0.64094108]\n",
      " [1.22730063]\n",
      " [1.22391409]\n",
      " [0.98735915]\n",
      " [1.61531265]\n",
      " [0.06913228]\n",
      " [1.87142936]\n",
      " [0.77092691]\n",
      " [0.45046041]\n",
      " [1.03456776]\n",
      " [0.01966369]\n",
      " [0.6818968 ]\n",
      " [0.87080387]\n",
      " [1.52782808]\n",
      " [1.32226622]\n",
      " [0.92694466]\n",
      " [0.0047296 ]\n",
      " [1.96571364]\n",
      " [1.11168425]\n",
      " [1.95426511]\n",
      " [0.31790429]\n",
      " [0.98896126]\n",
      " [0.77618736]\n",
      " [1.16551352]\n",
      " [1.61988268]\n",
      " [0.04712076]\n",
      " [0.17483341]\n",
      " [0.06833209]\n",
      " [1.49051433]\n",
      " [0.81846584]\n",
      " [1.50501745]\n",
      " [1.39558798]\n",
      " [1.96701906]\n",
      " [0.43054018]\n",
      " [0.89921431]\n",
      " [1.88610437]\n",
      " [1.57405373]\n",
      " [1.90827189]\n",
      " [1.2508309 ]\n",
      " [1.21909876]\n",
      " [0.46349971]\n",
      " [1.8020127 ]\n",
      " [0.8496476 ]\n",
      " [1.40149377]\n",
      " [1.22774342]\n",
      " [1.36471063]\n",
      " [1.61652331]\n",
      " [0.37397879]\n",
      " [1.06633352]\n",
      " [0.86018403]\n",
      " [0.82261295]\n",
      " [1.2369122 ]\n",
      " [1.49648801]\n",
      " [1.39054615]\n",
      " [1.90697057]\n",
      " [1.58181855]\n",
      " [1.16105617]\n",
      " [1.61099171]\n",
      " [1.16574357]\n",
      " [0.32264209]\n",
      " [0.08117818]\n",
      " [0.25185667]\n",
      " [0.32633222]]\n"
     ]
    }
   ],
   "source": [
    "print (X)"
   ]
  },
  {
   "cell_type": "code",
   "execution_count": 9,
   "metadata": {},
   "outputs": [
    {
     "name": "stdout",
     "output_type": "stream",
     "text": [
      "[[3.98921937]\n",
      " [3.07953206]]\n"
     ]
    }
   ],
   "source": [
    "print (theta_best)"
   ]
  },
  {
   "cell_type": "code",
   "execution_count": 10,
   "metadata": {},
   "outputs": [
    {
     "data": {
      "text/plain": [
       "array([[3.98921937],\n",
       "       [3.07953206]])"
      ]
     },
     "execution_count": 10,
     "metadata": {},
     "output_type": "execute_result"
    }
   ],
   "source": [
    "theta_best\n"
   ]
  },
  {
   "cell_type": "code",
   "execution_count": 12,
   "metadata": {},
   "outputs": [],
   "source": [
    "# Now you can make predictions using θ:\n",
    "X_new = np.array([[0], [2]])"
   ]
  },
  {
   "cell_type": "code",
   "execution_count": 13,
   "metadata": {},
   "outputs": [
    {
     "data": {
      "text/plain": [
       "array([[0],\n",
       "       [2]])"
      ]
     },
     "execution_count": 13,
     "metadata": {},
     "output_type": "execute_result"
    }
   ],
   "source": [
    "X_new"
   ]
  },
  {
   "cell_type": "code",
   "execution_count": 14,
   "metadata": {},
   "outputs": [],
   "source": [
    "X_new = np.array([[0], [2]])\n"
   ]
  },
  {
   "cell_type": "code",
   "execution_count": 15,
   "metadata": {},
   "outputs": [
    {
     "name": "stdout",
     "output_type": "stream",
     "text": [
      "[[0]\n",
      " [2]]\n"
     ]
    }
   ],
   "source": [
    "print (X_new)"
   ]
  },
  {
   "cell_type": "code",
   "execution_count": 16,
   "metadata": {},
   "outputs": [],
   "source": [
    " X_new_b = np.c_[np.ones((2, 1)), X_new] # add x0 = 1 to each instance"
   ]
  },
  {
   "cell_type": "code",
   "execution_count": 17,
   "metadata": {},
   "outputs": [
    {
     "name": "stdout",
     "output_type": "stream",
     "text": [
      "[[1. 0.]\n",
      " [1. 2.]]\n"
     ]
    }
   ],
   "source": [
    "print (X_new_b )"
   ]
  },
  {
   "cell_type": "code",
   "execution_count": 18,
   "metadata": {},
   "outputs": [],
   "source": [
    "y_predict = X_new_b.dot(theta_best)\n"
   ]
  },
  {
   "cell_type": "code",
   "execution_count": 19,
   "metadata": {},
   "outputs": [
    {
     "data": {
      "text/plain": [
       "array([[ 3.98921937],\n",
       "       [10.1482835 ]])"
      ]
     },
     "execution_count": 19,
     "metadata": {},
     "output_type": "execute_result"
    }
   ],
   "source": [
    "y_predict\n"
   ]
  },
  {
   "cell_type": "code",
   "execution_count": 23,
   "metadata": {},
   "outputs": [
    {
     "data": {
      "image/png": "[encoded data removed]",
      "text/plain": [
       "<Figure size 432x288 with 1 Axes>"
      ]
     },
     "metadata": {
      "needs_background": "light"
     },
     "output_type": "display_data"
    }
   ],
   "source": [
    "import matplotlib.pyplot as plt\n",
    "plt.plot(X_new, y_predict, \"r-\")\n",
    "plt.plot(X, y, \"b.\")\n",
    "plt.axis([0, 2, 0, 15])\n",
    "plt.show()\n"
   ]
  },
  {
   "cell_type": "code",
   "execution_count": 24,
   "metadata": {},
   "outputs": [],
   "source": [
    "from sklearn.linear_model import LinearRegression"
   ]
  },
  {
   "cell_type": "code",
   "execution_count": 26,
   "metadata": {},
   "outputs": [
    {
     "data": {
      "text/plain": [
       "array([[ 3.98921937],\n",
       "       [10.1482835 ]])"
      ]
     },
     "execution_count": 26,
     "metadata": {},
     "output_type": "execute_result"
    }
   ],
   "source": [
    "lin_reg = LinearRegression()\n",
    "lin_reg.fit(X, y)\n",
    "lin_reg.intercept_, lin_reg.coef_\n",
    "lin_reg.predict(X_new)"
   ]
  },
  {
   "cell_type": "code",
   "execution_count": 27,
   "metadata": {},
   "outputs": [
    {
     "data": {
      "text/plain": [
       "array([[3.98921937],\n",
       "       [3.07953206]])"
      ]
     },
     "execution_count": 27,
     "metadata": {},
     "output_type": "execute_result"
    }
   ],
   "source": [
    "theta_best_svd, residuals, rank, s = np.linalg.lstsq(X_b, y, rcond=1e-6)\n",
    "theta_best_svd\n"
   ]
  },
  {
   "cell_type": "code",
   "execution_count": 28,
   "metadata": {},
   "outputs": [
    {
     "data": {
      "text/plain": [
       "array([[3.98921937],\n",
       "       [3.07953206]])"
      ]
     },
     "execution_count": 28,
     "metadata": {},
     "output_type": "execute_result"
    }
   ],
   "source": [
    " np.linalg.pinv(X_b).dot(y)\n"
   ]
  },
  {
   "cell_type": "code",
   "execution_count": null,
   "metadata": {},
   "outputs": [],
   "source": []
  }
 ],
 "metadata": {
  "kernelspec": {
   "display_name": "Python 3",
   "language": "python",
   "name": "python3"
  },
  "language_info": {
   "codemirror_mode": {
    "name": "ipython",
    "version": 3
   },
   "file_extension": ".py",
   "mimetype": "text/x-python",
   "name": "python",
   "nbconvert_exporter": "python",
   "pygments_lexer": "ipython3",
   "version": "3.8.3"
  }
 },
 "nbformat": 4,
 "nbformat_minor": 4
}
